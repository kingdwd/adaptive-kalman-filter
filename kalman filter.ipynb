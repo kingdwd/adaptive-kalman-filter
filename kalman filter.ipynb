{
 "cells": [
  {
   "cell_type": "code",
   "execution_count": 2,
   "metadata": {},
   "outputs": [],
   "source": [
    "import matplotlib.pyplot as plt\n",
    "import numpy as np\n",
    "import tensorflow as tf\n",
    "import math\n",
    "from numpy.random import randn\n",
    "from scipy.linalg import inv"
   ]
  },
  {
   "cell_type": "markdown",
   "metadata": {},
   "source": [
    "# Kalman Filter"
   ]
  },
  {
   "cell_type": "markdown",
   "metadata": {},
   "source": [
    "Kalman filter is a bayesian filter used to approximate system state using given measurements and process model. Below I will implement Kalman filter for multivariable system and demonstrate its results. Next step is to improve Kalman filter by implementing dynamic calculation of process noise during filters operation in order to improve its precision"
   ]
  },
  {
   "cell_type": "markdown",
   "metadata": {},
   "source": [
    "## Research Process Description"
   ]
  },
  {
   "cell_type": "markdown",
   "metadata": {},
   "source": [
    "In order to show results of the research, following plan was developed:\n",
    "1. Develop a model with several variables, such as train movement.\n",
    "2. Create imprecise measurements of the model, in order to use filter on\n",
    "3. Show performance of a classic Kalman Filter on the model and measurements\n",
    "4. Design Kalman filter with uses an agent to calculate process and sensor error as the filtering is in process\n",
    "5. Show differences in performance of the filters - accuracy, speed, memory usage"
   ]
  },
  {
   "cell_type": "markdown",
   "metadata": {},
   "source": [
    "## Model Under Study"
   ]
  },
  {
   "cell_type": "markdown",
   "metadata": {},
   "source": [
    "As an example we will use train for which we have a location sensor. We will estimate speed and location as variables for our model."
   ]
  },
  {
   "cell_type": "markdown",
   "metadata": {},
   "source": [
    "## Kalman Filter Overview"
   ]
  },
  {
   "cell_type": "markdown",
   "metadata": {},
   "source": [
    "![kalman](img/kalman-2.png)"
   ]
  },
  {
   "cell_type": "markdown",
   "metadata": {},
   "source": [
    "In principle kalman filter has two stages prediction and update. During prediction we compute _prior_ which is the estimation of the next state of the system. During update step we incorporate measurements and select value of the system somewhere between prediction and measurement based on _Kalman gain_.\n",
    "\n",
    "Below we will see how these stages are described and how we implement them."
   ]
  },
  {
   "cell_type": "markdown",
   "metadata": {},
   "source": [
    "## Kalman Filter Algorithm"
   ]
  },
  {
   "cell_type": "markdown",
   "metadata": {},
   "source": [
    "**Initialization**\n",
    "\n",
    "    1. Initialize the state of the filter\n",
    "    2. Initialize initial state of the system\n",
    "    \n",
    "**Predict**\n",
    "\n",
    "    1. Use process model to predict state at the next time step\n",
    "    2. Adjust belief to account for the uncertainty in prediction    \n",
    "**Update**\n",
    "\n",
    "    1. Get a measurement and associated belief about its accuracy\n",
    "    2. Compute residual between estimated state and measurement\n",
    "    3. Compute scaling factor based on whether the measurement\n",
    "    or prediction is more accurate\n",
    "    4. set state between the prediction and measurement based \n",
    "    on scaling factor\n",
    "    5. update belief in the state based on how certain we are \n",
    "    in the measurement"
   ]
  },
  {
   "cell_type": "markdown",
   "metadata": {},
   "source": [
    "## Variables in Kalman Filter\n",
    "\n",
    "Now let's describe all variables we need for a Kalman filter:\n",
    "\n",
    "$\\mathbf{x}$ - state vector, when we talk about state, we always assume mean value, since we are never sure.\n",
    "\n",
    "$\\mathbf{P}$ - covariance matrix of our state.\n",
    "\n",
    "$\\mathbf{F}$ - state transition function.\n",
    "\n",
    "$\\mathbf{Q}$ - process covariance, this is uncertainty you have about your model calculations.\n",
    "\n",
    "$\\mathbf{B}$ - input function, transformation of an input vector corresponding to a model.\n",
    "\n",
    "$\\mathbf{u}$ - input vector.\n",
    "\n",
    "$\\mathbf{H}$ - measurement function.\n",
    "\n",
    "$\\mathbf{z}$ - measurement mean, basically value we get from the sensor.\n",
    "\n",
    "$\\mathbf{R}$ - measurement covariance matrix, how our measurement can deviate from the real value\n",
    "\n",
    "$\\mathbf{K}$ - Kalman gain, or how much we trust either measurement or prediction\n",
    "\n",
    "$\\mathbf{y}$ - residual"
   ]
  },
  {
   "cell_type": "markdown",
   "metadata": {},
   "source": [
    "## Equations\n",
    "\n",
    "Kalman filter is described by the following equations:\n",
    "\n",
    "### Prediction\n",
    "\n",
    "$\\bar{\\mathbf x} = \\mathbf{Fx} + \\mathbf{Bu}$\n",
    "\n",
    "$\\bar{\\mathbf P} = \\mathbf{FPF}^\\mathsf T + \\mathbf Q$\n",
    "\n",
    "### Update\n",
    "\n",
    "$\\mathbf y = \\mathbf z - \\mathbf{H\\bar x}$\n",
    "\n",
    "$\\mathbf K = \\mathbf{\\bar{P}H}^\\mathsf T (\\mathbf{H\\bar{P}H}^\\mathsf T + \\mathbf R)^{-1}$\n",
    "\n",
    "$ \\mathbf x = \\bar{\\mathbf x} + \\mathbf{Ky}$\n",
    "\n",
    "$\\mathbf P = (\\mathbf I - \\mathbf{KH})\\mathbf{\\bar{P}}$"
   ]
  },
  {
   "cell_type": "markdown",
   "metadata": {},
   "source": [
    "## Simulation for testing\n",
    "\n",
    "For testing purposes we need to generate simulation. In our case it is movement of a train. We need to generate measurement with some deviation, as well as our prediction with some process deviation. We will have length of the simulation as a parameter and make samples every second. System will have initial position in form of a vector - first value is initial coordinate, second is initial speed. Each iteration we will change coordinate by speed + process noise. Also when we take measurements, sensor noise will be added. Function will return two vectors - vector of predicted coordinates and vector of measured coordinates."
   ]
  },
  {
   "cell_type": "code",
   "execution_count": 323,
   "metadata": {},
   "outputs": [],
   "source": [
    "\n",
    "def generate_simulation(initial_state, process_var, sensor_var, length=1):\n",
    "    x = initial_state[0]\n",
    "    v = initial_state[1]\n",
    "    \n",
    "    process_std = math.sqrt(process_var)\n",
    "    sensor_std = math.sqrt(sensor_var)\n",
    "    \n",
    "    coordinates, measurements = [], []\n",
    "    \n",
    "    for _ in range(length):\n",
    "        x += v + randn() * process_std # compute new coordinate\n",
    "        coordinates.append(np.array([[x], [v]]))\n",
    "        measurements.append(np.array([[x + randn() * sensor_std], [v + randn() * sensor_std]])) #compute sensor readings\n",
    "    \n",
    "    return np.array(coordinates), np.array(measurements)\n",
    "        "
   ]
  },
  {
   "cell_type": "markdown",
   "metadata": {},
   "source": [
    "## Visualizing Simulation\n",
    "\n",
    "Now let's see how results of our simulation look like."
   ]
  },
  {
   "cell_type": "code",
   "execution_count": 324,
   "metadata": {},
   "outputs": [
    {
     "data": {
      "image/png": "[encoded data removed]",
      "text/plain": [
       "<matplotlib.figure.Figure at 0x1a2d506f98>"
      ]
     },
     "metadata": {},
     "output_type": "display_data"
    }
   ],
   "source": [
    "sim_length = 100\n",
    "x, m = generate_simulation([0, 1], process_var=0.5, sensor_var=10.0, length=sim_length)\n",
    "\n",
    "plt.plot(range(sim_length), m[:, 0] ,'r', label=\"sensor\")\n",
    "plt.plot(range(sim_length), x[:, 0], label=\"calculation\")\n",
    "\n",
    "plt.ylabel(\"distance\")\n",
    "plt.xlabel(\"time\")\n",
    "plt.legend(loc='lower right', shadow=False)\n",
    "plt.grid(True)\n",
    "plt.show()"
   ]
  },
  {
   "cell_type": "markdown",
   "metadata": {},
   "source": [
    "## Implementation of Kalman Filter\n",
    "\n",
    "To produce Kalman filter, we need to write two functions - predict and update You will see their code below."
   ]
  },
  {
   "cell_type": "markdown",
   "metadata": {},
   "source": [
    "## Predict function\n",
    "\n",
    "As we already have seen above, prediction function consists of the follwing equations:\n",
    "\n",
    "$\\bar{\\mathbf x} = \\mathbf{Fx} + \\mathbf{Bu}$\n",
    "\n",
    "$\\bar{\\mathbf P} = \\mathbf{FPF}^\\mathsf T + \\mathbf Q$\n",
    "\n",
    "Prediction is used to compute prior - what we _predict_ will be the next state of the system. State of the system consists of mean of its variables and their covariance matrix."
   ]
  },
  {
   "cell_type": "code",
   "execution_count": 325,
   "metadata": {},
   "outputs": [],
   "source": [
    "def predict(x, P, F, Q, B=0, u=0):\n",
    "    nx = np.dot(F, x) + np.dot(B, u)\n",
    "    nP = np.dot(F, P).dot(F.T) + Q\n",
    "    return nx, nP"
   ]
  },
  {
   "cell_type": "markdown",
   "metadata": {},
   "source": [
    "## Update Function\n",
    "\n",
    "Update function consists of the following equations:\n",
    "\n",
    "$\\mathbf y = \\mathbf z - \\mathbf{H\\bar x}$\n",
    "\n",
    "$\\mathbf K = \\mathbf{\\bar{P}H}^\\mathsf T (\\mathbf{H\\bar{P}H}^\\mathsf T + \\mathbf R)^{-1}$\n",
    "\n",
    "$ \\mathbf x = \\bar{\\mathbf x} + \\mathbf{Ky}$\n",
    "\n",
    "$\\mathbf P = (\\mathbf I - \\mathbf{KH})\\mathbf{\\bar{P}}$\n",
    "\n",
    "This function is used to choose middlepoint between our prediction and measurement."
   ]
  },
  {
   "cell_type": "code",
   "execution_count": 326,
   "metadata": {},
   "outputs": [],
   "source": [
    "def update(H, P, R, x, z):\n",
    "    y = z - np.dot(H, x)\n",
    "    A = inv(np.dot(H, P).dot(H.T) + R)\n",
    "    K = np.dot(P, H.T).dot(A)\n",
    "    nx = x + np.dot(K, y)\n",
    "    nP = P - np.dot(K, H).dot(P)\n",
    "    \n",
    "    return nx, nP"
   ]
  },
  {
   "cell_type": "markdown",
   "metadata": {},
   "source": [
    "## Kalman Filter\n",
    "\n",
    "Using functions defined above, let's write Kalman Filter."
   ]
  },
  {
   "cell_type": "code",
   "execution_count": 372,
   "metadata": {},
   "outputs": [],
   "source": [
    "def kalman(x, P, measures, R, Q, F, H, B=0, u=0):\n",
    "    xs, cov = [], []\n",
    "    for z in measures:\n",
    "        # predict\n",
    "        x = np.dot(F, x)\n",
    "        P = np.dot(F, P).dot(F.T) + Q\n",
    "\n",
    "        #update\n",
    "        S = np.dot(H, P).dot(H.T) + R\n",
    "        K = np.dot(P, H.T).dot(inv(S))\n",
    "        print(K.shape)\n",
    "        y = z - np.dot(H, x)\n",
    "        x += np.dot(K, y)\n",
    "\n",
    "        P = P - np.dot(K, H).dot(P)\n",
    "\n",
    "        xs.append(x)\n",
    "        cov.append(P)\n",
    "    return np.array(xs), np.array(cov)\n",
    "\n",
    "    "
   ]
  },
  {
   "cell_type": "markdown",
   "metadata": {},
   "source": [
    "## Parameters for our example"
   ]
  },
  {
   "cell_type": "code",
   "execution_count": 373,
   "metadata": {},
   "outputs": [
    {
     "name": "stdout",
     "output_type": "stream",
     "text": [
      "(2, 2)\n",
      "(2, 2)\n",
      "(2, 2)\n",
      "(2, 2)\n",
      "(2, 2)\n",
      "(2, 2)\n",
      "(2, 2)\n",
      "(2, 2)\n",
      "(2, 2)\n",
      "(2, 2)\n",
      "(2, 2)\n",
      "(2, 2)\n",
      "(2, 2)\n",
      "(2, 2)\n",
      "(2, 2)\n",
      "(2, 2)\n",
      "(2, 2)\n",
      "(2, 2)\n",
      "(2, 2)\n",
      "(2, 2)\n",
      "(2, 2)\n",
      "(2, 2)\n",
      "(2, 2)\n",
      "(2, 2)\n",
      "(2, 2)\n",
      "(2, 2)\n",
      "(2, 2)\n",
      "(2, 2)\n",
      "(2, 2)\n",
      "(2, 2)\n",
      "(2, 2)\n",
      "(2, 2)\n",
      "(2, 2)\n",
      "(2, 2)\n",
      "(2, 2)\n",
      "(2, 2)\n",
      "(2, 2)\n",
      "(2, 2)\n",
      "(2, 2)\n",
      "(2, 2)\n",
      "(2, 2)\n",
      "(2, 2)\n",
      "(2, 2)\n",
      "(2, 2)\n",
      "(2, 2)\n",
      "(2, 2)\n",
      "(2, 2)\n",
      "(2, 2)\n",
      "(2, 2)\n",
      "(2, 2)\n",
      "(2, 2)\n",
      "(2, 2)\n",
      "(2, 2)\n",
      "(2, 2)\n",
      "(2, 2)\n",
      "(2, 2)\n",
      "(2, 2)\n",
      "(2, 2)\n",
      "(2, 2)\n",
      "(2, 2)\n",
      "(2, 2)\n",
      "(2, 2)\n",
      "(2, 2)\n",
      "(2, 2)\n",
      "(2, 2)\n",
      "(2, 2)\n",
      "(2, 2)\n",
      "(2, 2)\n",
      "(2, 2)\n",
      "(2, 2)\n",
      "(2, 2)\n",
      "(2, 2)\n",
      "(2, 2)\n",
      "(2, 2)\n",
      "(2, 2)\n",
      "(2, 2)\n",
      "(2, 2)\n",
      "(2, 2)\n",
      "(2, 2)\n",
      "(2, 2)\n",
      "(2, 2)\n",
      "(2, 2)\n",
      "(2, 2)\n",
      "(2, 2)\n",
      "(2, 2)\n",
      "(2, 2)\n",
      "(2, 2)\n",
      "(2, 2)\n",
      "(2, 2)\n",
      "(2, 2)\n",
      "(2, 2)\n",
      "(2, 2)\n",
      "(2, 2)\n",
      "(2, 2)\n",
      "(2, 2)\n",
      "(2, 2)\n",
      "(2, 2)\n",
      "(2, 2)\n",
      "(2, 2)\n",
      "(2, 2)\n"
     ]
    },
    {
     "data": {
      "image/png": "[encoded data removed]",
      "text/plain": [
       "<matplotlib.figure.Figure at 0x1a51d919b0>"
      ]
     },
     "metadata": {},
     "output_type": "display_data"
    },
    {
     "data": {
      "image/png": "[encoded data removed]",
      "text/plain": [
       "<matplotlib.figure.Figure at 0x1a626aba20>"
      ]
     },
     "metadata": {},
     "output_type": "display_data"
    },
    {
     "data": {
      "image/png": "[encoded data removed]",
      "text/plain": [
       "<matplotlib.figure.Figure at 0x1a6277acc0>"
      ]
     },
     "metadata": {},
     "output_type": "display_data"
    },
    {
     "data": {
      "image/png": "[encoded data removed]",
      "text/plain": [
       "<matplotlib.figure.Figure at 0x1a62841e48>"
      ]
     },
     "metadata": {},
     "output_type": "display_data"
    },
    {
     "data": {
      "text/plain": [
       "array([[ 10.],\n",
       "       [  1.]])"
      ]
     },
     "execution_count": 373,
     "metadata": {},
     "output_type": "execute_result"
    }
   ],
   "source": [
    "sim_length = 100\n",
    "x = np.array([[10., 1]]).T\n",
    "P = np.diag([5., 1.])\n",
    "F = np.array([[1., 1],\n",
    "             [0., 1]])\n",
    "R = np.array([[5., 0], [0, 5.]])\n",
    "Q = np.array([[.01, 0.0],\n",
    "              [0., .01]])\n",
    "H = np.array([[1., 0], [0., 1.]])\n",
    "\n",
    "xs, m = generate_simulation([10., 1], process_var=.01, sensor_var=5., length=sim_length)\n",
    "\n",
    "fx, fP = kalman(x, P, m, R, Q, F, H)\n",
    "\n",
    "plt.plot(range(sim_length), xs[:, 0], label=\"calculation\")\n",
    "plt.plot(range(sim_length), m[:, 0] ,'g', label=\"measurement\")\n",
    "plt.ylabel(\"distance\")\n",
    "plt.xlabel(\"time\")\n",
    "plt.legend(loc='lower right', shadow=False)\n",
    "plt.grid(True)\n",
    "plt.show()\n",
    "\n",
    "plt.plot(range(sim_length), xs[:, 0], label=\"calculation\")\n",
    "plt.plot(range(sim_length), fx[:, 0], 'r--', label=\"filter\")\n",
    "plt.ylabel(\"distance\")\n",
    "plt.xlabel(\"time\")\n",
    "plt.legend(loc='lower right', shadow=False)\n",
    "plt.grid(True)\n",
    "plt.show()\n",
    "\n",
    "plt.plot(range(sim_length), fP[:, 0, 0])\n",
    "plt.show()\n",
    "\n",
    "# print(fx[:, 0])\n",
    "# print(xs - fx[:, 0])\n",
    "plt.plot(range(sim_length), xs[:, 0].flatten() - fx[:, 0].flatten())\n",
    "plt.show()\n",
    "x"
   ]
  },
  {
   "cell_type": "markdown",
   "metadata": {},
   "source": [
    "# Kalman Filter Improvement"
   ]
  },
  {
   "cell_type": "markdown",
   "metadata": {},
   "source": [
    "Major problem of the Kalman filter is that its performance depends a lot on proper estimation of process and noise covariance matrices Q & R. In practice these parameters are hard to estimate correctly, so filter has sub-optimal performance.\n",
    "\n",
    "In order to fix that, one of the proposals is to use neural network to correct kalman filter estimation.\n",
    "\n",
    "Network accepts $K$ and $y$ of the filter as the input and produces state correction $X_{mod}$, which is used to adjust state calculated by the filter.\n",
    "\n",
    "This idea is based on an article \"Kalman Filtering Compensated by Radial Basis Function Neural Network for Seam Tracking of Laser Welding\" (link below), which uses that technique to successfully improve Kalman Filter for Laser Welding process."
   ]
  },
  {
   "cell_type": "markdown",
   "metadata": {},
   "source": [
    "# Training Dataset"
   ]
  },
  {
   "cell_type": "code",
   "execution_count": null,
   "metadata": {},
   "outputs": [],
   "source": [
    "def kalman_training(x, P, measures, R, Q, F, H, B=0, u=0):\n",
    "    xs, cov = [], []\n",
    "    ys, Ks = [], []\n",
    "    for z in measures:\n",
    "        # predict\n",
    "        x = np.dot(F, x)\n",
    "        P = np.dot(F, P).dot(F.T) + Q\n",
    "\n",
    "        #update\n",
    "        S = np.dot(H, P).dot(H.T) + R\n",
    "        K = np.dot(P, H.T).dot(inv(S))\n",
    "        Ks.append(K.dot(np.array([[1], [0]])))\n",
    "        y = z - np.dot(H, x)\n",
    "        \n",
    "        ys.append(y)\n",
    "        x += np.dot(K, y)\n",
    "        P = P - np.dot(K, H).dot(P)\n",
    "        \n",
    "        xs.append(x)\n",
    "        cov.append(P)\n",
    "    return np.array(xs), np.array(cov), np.array(ys), np.array(Ks)\n",
    "\n",
    "\n",
    "sim_length = 1000\n",
    "x = np.array([[10., 1]]).T\n",
    "P = np.diag([5., 1.])\n",
    "F = np.array([[1., 1],\n",
    "             [0., 1]])\n",
    "R = np.array([[5., 0], [0, 5.]])\n",
    "Q = np.array([[.01, 0.0],\n",
    "              [0., .01]])\n",
    "H = np.array([[1., 0], [0., 1.]])\n",
    "\n"
   ]
  },
  {
   "cell_type": "markdown",
   "metadata": {},
   "source": [
    "# Generating Test Data"
   ]
  },
  {
   "cell_type": "markdown",
   "metadata": {},
   "source": [
    "We run simulation l times for each sample until we reach a sample size specified below."
   ]
  },
  {
   "cell_type": "code",
   "execution_count": 495,
   "metadata": {},
   "outputs": [
    {
     "name": "stderr",
     "output_type": "stream",
     "text": [
      " 19%|█▊        | 93/500 [00:09<00:43,  9.33it/s]/Users/nick/anaconda3/lib/python3.6/site-packages/tqdm/_monitor.py:89: TqdmSynchronisationWarning: Set changed size during iteration (see https://github.com/tqdm/tqdm/issues/481)\n",
      "  TqdmSynchronisationWarning)\n",
      "100%|██████████| 500/500 [00:49<00:00, 10.01it/s]\n"
     ]
    }
   ],
   "source": [
    "l = 1000  # Sample length\n",
    "N = 500 # Sample amount\n",
    "h1 = 50 # Number of neurons\n",
    "\n",
    "output_corr = []\n",
    "input_set = []\n",
    "\n",
    "for j in tqdm.tqdm(range(N)):\n",
    "    sim_length = 1000\n",
    "    x = np.array([[10., 1]]).T\n",
    "    P = np.diag([5., 1.])\n",
    "    F = np.array([[1., 1],\n",
    "                 [0., 1]])\n",
    "    R = np.array([[3., 0], [0, 3.]])\n",
    "    Q = np.array([[.01, 0.0],\n",
    "                  [0., .01]])\n",
    "    H = np.array([[1., 0], [0., 1.]])\n",
    "    xs, m = generate_simulation([10., 1], process_var=.01, sensor_var=3., length=sim_length)\n",
    "\n",
    "    fx, fP, Zs, Ks = kalman_training(x, P, m, R, Q, F, H)\n",
    "\n",
    "    correction = fx - xs\n",
    "    output_corr.append(correction.squeeze())\n",
    "    \n",
    "    inp = np.column_stack((Zs.squeeze(), Ks.squeeze()))\n",
    "    inp = np.array([inp for i in range(h1)])\n",
    "    input_set.append(inp)\n",
    "\n",
    "\n",
    "output_corr = np.array(output_corr)\n",
    "input_set = np.array(input_set)\n"
   ]
  },
  {
   "cell_type": "markdown",
   "metadata": {},
   "source": [
    "# Neural Network Parameters"
   ]
  },
  {
   "cell_type": "markdown",
   "metadata": {},
   "source": [
    "Below we use information from the article to create our neural network."
   ]
  },
  {
   "cell_type": "code",
   "execution_count": null,
   "metadata": {},
   "outputs": [],
   "source": [
    "x = tf.placeholder(tf.float64, (N, h1, l, 4), name=\"x\")\n",
    "y = tf.placeholder(tf.float64, (N, l, 2), name=\"y\")\n",
    "W = tf.Variable(initial_value=np.random.randn(1, h1, l, 4))\n",
    "b = tf.Variable(initial_value=np.random.randn(1, l, 1))\n",
    "n = tf.exp(-tf.square(tf.norm(W - x, axis=1) * b))\n",
    "n = tf.reshape(n, (N, l, 2, 2))\n",
    "W2 = tf.Variable(initial_value=np.random.randn(1, l, 2))\n",
    "\n",
    "b2 = tf.Variable(initial_value=np.random.randn(1))\n",
    "out1 = tf.reduce_sum(W2*n[:,:,:,0], axis=2)\n",
    "out2 = tf.reduce_sum(W2*n[:,:,:,1], axis=2)\n",
    "\n",
    "out = tf.stack([out1, out2], axis = 2) + b2\n",
    "loss = tf.norm(y - out, ord=1)\n",
    "\n",
    "sgd = tf.train.RMSPropOptimizer(0.01)   # Learning rate\n",
    "step = sgd.minimize(loss)"
   ]
  },
  {
   "cell_type": "markdown",
   "metadata": {},
   "source": [
    "# Train the Network"
   ]
  },
  {
   "cell_type": "markdown",
   "metadata": {},
   "source": [
    "We train the network trying to minimize loss"
   ]
  },
  {
   "cell_type": "code",
   "execution_count": null,
   "metadata": {},
   "outputs": [],
   "source": [
    "epochs = 1000\n",
    "sess = tf.InteractiveSession()\n",
    "init = tf.global_variables_initializer()\n",
    "sess.run([init])\n",
    "\n",
    "for i in range(epochs):\n",
    "    loss_, _ = sess.run([loss, step], feed_dict={x: input_set, y: output_corr})\n",
    "    print(str(i) + \": \" + str(loss_))"
   ]
  },
  {
   "cell_type": "markdown",
   "metadata": {},
   "source": [
    "# Results"
   ]
  },
  {
   "cell_type": "markdown",
   "metadata": {},
   "source": [
    "If you run the training code above, you will notice that the loss is quite huge and not at all acceptable. This means that the network has failed to train on a given test data. \n",
    "\n",
    "I was not able to repeat experiment result of the article, which is due to several issues.\n",
    "First of all, neural network was poorly described in the article, which makes it hard to infer its configuration. I lack experience in this domain (machine learning), so to analyze what went wrong and where is hard as it requires a lot of expert knowledge.\n",
    "\n",
    "Secondly, paper describes concrete process and concrete solution to predict that process more accurately. I do not see why the algorithm proposed cannot be used in general sense, but again, lack of expert knowledge leaves ma unsure.\n",
    "\n",
    "Quality of the paper leaves more to be desired. Notation is inconsitent and there are a lot of grammatical mistakes which makes it hard to understand what the authors meant. Also authors leave a lot of details out of the paper, such as the size of the training dataset, initial parameters, etc.\n",
    "\n",
    "Given more time and knowledge, this research has a great potential to enhance classic filtering algorithms, however I was not able to repeat the success of the authors"
   ]
  },
  {
   "cell_type": "markdown",
   "metadata": {},
   "source": [
    "# References"
   ]
  },
  {
   "cell_type": "markdown",
   "metadata": {},
   "source": [
    "https://ieeexplore.ieee.org/document/6353188/ - paper the research is based on"
   ]
  },
  {
   "cell_type": "code",
   "execution_count": null,
   "metadata": {},
   "outputs": [],
   "source": []
  }
 ],
 "metadata": {
  "kernelspec": {
   "display_name": "Python 3",
   "language": "python",
   "name": "python3"
  },
  "language_info": {
   "codemirror_mode": {
    "name": "ipython",
    "version": 3
   },
   "file_extension": ".py",
   "mimetype": "text/x-python",
   "name": "python",
   "nbconvert_exporter": "python",
   "pygments_lexer": "ipython3",
   "version": "3.6.4"
  }
 },
 "nbformat": 4,
 "nbformat_minor": 2
}
