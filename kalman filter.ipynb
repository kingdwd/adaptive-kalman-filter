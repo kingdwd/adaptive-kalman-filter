{
 "cells": [
  {
   "cell_type": "code",
   "execution_count": 1,
   "metadata": {},
   "outputs": [],
   "source": [
    "import matplotlib.pyplot as plt\n",
    "import numpy as np\n",
    "import tensorflow as tf\n",
    "import math\n",
    "from numpy.random import randn\n",
    "from scipy.linalg import inv"
   ]
  },
  {
   "cell_type": "markdown",
   "metadata": {},
   "source": [
    "# Kalman Filter"
   ]
  },
  {
   "cell_type": "markdown",
   "metadata": {},
   "source": [
    "Kalman filter is a bayesian filter used to approximate system state using given measurements and process model. Below I will implement Kalman filter for multivariable system and demonstrate its results. Next step is to improve Kalman filter by implementing dynamic calculation of process noise during filters operation in order to improve its precision"
   ]
  },
  {
   "cell_type": "markdown",
   "metadata": {},
   "source": [
    "## Research Process Description"
   ]
  },
  {
   "cell_type": "markdown",
   "metadata": {},
   "source": [
    "In order to show results of the research, following plan was developed:\n",
    "1. Develop a model with several variables, such as train movement.\n",
    "2. Create imprecise measurements of the model, in order to use filter on\n",
    "3. Show performance of a classic Kalman Filter on the model and measurements\n",
    "4. Design Kalman filter with uses an agent to calculate process and sensor error as the filtering is in process\n",
    "5. Show differences in performance of the filters - accuracy, speed, memory usage"
   ]
  },
  {
   "cell_type": "markdown",
   "metadata": {},
   "source": [
    "## Model Under Study"
   ]
  },
  {
   "cell_type": "markdown",
   "metadata": {},
   "source": [
    "As an example we will use train for which we have a location sensor. We will estimate speed and location as variables for our model."
   ]
  },
  {
   "cell_type": "markdown",
   "metadata": {},
   "source": [
    "## Kalman Filter Overview"
   ]
  },
  {
   "cell_type": "markdown",
   "metadata": {},
   "source": [
    "![kalman](img/kalman-2.png)"
   ]
  },
  {
   "cell_type": "markdown",
   "metadata": {},
   "source": [
    "In principle kalman filter has two stages prediction and update. During prediction we compute _prior_ which is the estimation of the next state of the system. During update step we incorporate measurements and select value of the system somewhere between prediction and measurement based on _Kalman gain_.\n",
    "\n",
    "Below we will see how these stages are described and how we implement them."
   ]
  },
  {
   "cell_type": "markdown",
   "metadata": {},
   "source": [
    "## Kalman Filter Algorithm"
   ]
  },
  {
   "cell_type": "markdown",
   "metadata": {},
   "source": [
    "**Initialization**\n",
    "\n",
    "    1. Initialize the state of the filter\n",
    "    2. Initialize initial state of the system\n",
    "    \n",
    "**Predict**\n",
    "\n",
    "    1. Use process model to predict state at the next time step\n",
    "    2. Adjust belief to account for the uncertainty in prediction    \n",
    "**Update**\n",
    "\n",
    "    1. Get a measurement and associated belief about its accuracy\n",
    "    2. Compute residual between estimated state and measurement\n",
    "    3. Compute scaling factor based on whether the measurement\n",
    "    or prediction is more accurate\n",
    "    4. set state between the prediction and measurement based \n",
    "    on scaling factor\n",
    "    5. update belief in the state based on how certain we are \n",
    "    in the measurement"
   ]
  },
  {
   "cell_type": "markdown",
   "metadata": {},
   "source": [
    "## Variables in Kalman Filter\n",
    "\n",
    "Now let's describe all variables we need for a Kalman filter:\n",
    "\n",
    "$\\mathbf{x}$ - state vector, when we talk about state, we always assume mean value, since we are never sure.\n",
    "\n",
    "$\\mathbf{P}$ - covariance matrix of our state.\n",
    "\n",
    "$\\mathbf{F}$ - state transition function.\n",
    "\n",
    "$\\mathbf{Q}$ - process covariance, this is uncertainty you have about your model calculations.\n",
    "\n",
    "$\\mathbf{B}$ - input function, transformation of an input vector corresponding to a model.\n",
    "\n",
    "$\\mathbf{u}$ - input vector.\n",
    "\n",
    "$\\mathbf{H}$ - measurement function.\n",
    "\n",
    "$\\mathbf{z}$ - measurement mean, basically value we get from the sensor.\n",
    "\n",
    "$\\mathbf{R}$ - measurement covariance matrix, how our measurement can deviate from the real value\n",
    "\n",
    "$\\mathbf{K}$ - Kalman gain, or how much we trust either measurement or prediction\n",
    "\n",
    "$\\mathbf{y}$ - residual"
   ]
  },
  {
   "cell_type": "markdown",
   "metadata": {},
   "source": [
    "## Equations\n",
    "\n",
    "Kalman filter is described by the following equations:\n",
    "\n",
    "### Prediction\n",
    "\n",
    "$\\bar{\\mathbf x} = \\mathbf{Fx} + \\mathbf{Bu}$\n",
    "\n",
    "$\\bar{\\mathbf P} = \\mathbf{FPF}^\\mathsf T + \\mathbf Q$\n",
    "\n",
    "### Update\n",
    "\n",
    "$\\mathbf y = \\mathbf z - \\mathbf{H\\bar x}$\n",
    "\n",
    "$\\mathbf K = \\mathbf{\\bar{P}H}^\\mathsf T (\\mathbf{H\\bar{P}H}^\\mathsf T + \\mathbf R)^{-1}$\n",
    "\n",
    "$ \\mathbf x = \\bar{\\mathbf x} + \\mathbf{Ky}$\n",
    "\n",
    "$\\mathbf P = (\\mathbf I - \\mathbf{KH})\\mathbf{\\bar{P}}$"
   ]
  },
  {
   "cell_type": "markdown",
   "metadata": {},
   "source": [
    "## Simulation for testing\n",
    "\n",
    "For testing purposes we need to generate simulation. In our case it is movement of a train. We need to generate measurement with some deviation, as well as our prediction with some process deviation. We will have length of the simulation as a parameter and make samples every second. System will have initial position in form of a vector - first value is initial coordinate, second is initial speed. Each iteration we will change coordinate by speed + process noise. Also when we take measurements, sensor noise will be added. Function will return two vectors - vector of predicted coordinates and vector of measured coordinates."
   ]
  },
  {
   "cell_type": "code",
   "execution_count": 2,
   "metadata": {},
   "outputs": [],
   "source": [
    "\n",
    "def generate_simulation(initial_state, process_var, sensor_var, length=1):\n",
    "    x = initial_state[0]\n",
    "    v = initial_state[1]\n",
    "    \n",
    "    process_std = math.sqrt(process_var)\n",
    "    sensor_std = math.sqrt(sensor_var)\n",
    "    \n",
    "    coordinates, measurements = [], []\n",
    "    \n",
    "    for _ in range(length):\n",
    "        x += v + randn() * process_std # compute new coordinate\n",
    "        coordinates.append(np.array([[x], [v]]))\n",
    "        measurements.append(np.array([[x + randn() * sensor_std], [v + randn() * sensor_std]])) #compute sensor readings\n",
    "    \n",
    "    return np.array(coordinates), np.array(measurements)\n",
    "        "
   ]
  },
  {
   "cell_type": "markdown",
   "metadata": {},
   "source": [
    "## Visualizing Simulation\n",
    "\n",
    "Now let's see how results of our simulation look like."
   ]
  },
  {
   "cell_type": "code",
   "execution_count": 3,
   "metadata": {},
   "outputs": [
    {
     "data": {
      "image/png": "[encoded data removed]",
      "text/plain": [
       "<matplotlib.figure.Figure at 0x107a46e48>"
      ]
     },
     "metadata": {},
     "output_type": "display_data"
    }
   ],
   "source": [
    "sim_length = 100\n",
    "x, m = generate_simulation([0, 1], process_var=0.5, sensor_var=10.0, length=sim_length)\n",
    "\n",
    "plt.plot(range(sim_length), m[:, 0] ,'r', label=\"sensor\")\n",
    "plt.plot(range(sim_length), x[:, 0], label=\"calculation\")\n",
    "\n",
    "plt.ylabel(\"distance\")\n",
    "plt.xlabel(\"time\")\n",
    "plt.legend(loc='lower right', shadow=False)\n",
    "plt.grid(True)\n",
    "plt.show()"
   ]
  },
  {
   "cell_type": "markdown",
   "metadata": {},
   "source": [
    "## Implementation of Kalman Filter\n",
    "\n",
    "To produce Kalman filter, we need to write two functions - predict and update You will see their code below."
   ]
  },
  {
   "cell_type": "markdown",
   "metadata": {},
   "source": [
    "## Predict function\n",
    "\n",
    "As we already have seen above, prediction function consists of the follwing equations:\n",
    "\n",
    "$\\bar{\\mathbf x} = \\mathbf{Fx} + \\mathbf{Bu}$\n",
    "\n",
    "$\\bar{\\mathbf P} = \\mathbf{FPF}^\\mathsf T + \\mathbf Q$\n",
    "\n",
    "Prediction is used to compute prior - what we _predict_ will be the next state of the system. State of the system consists of mean of its variables and their covariance matrix."
   ]
  },
  {
   "cell_type": "code",
   "execution_count": 4,
   "metadata": {},
   "outputs": [],
   "source": [
    "def predict(x, P, F, Q, B=0, u=0):\n",
    "    nx = np.dot(F, x) + np.dot(B, u)\n",
    "    nP = np.dot(F, P).dot(F.T) + Q\n",
    "    return nx, nP"
   ]
  },
  {
   "cell_type": "markdown",
   "metadata": {},
   "source": [
    "## Update Function\n",
    "\n",
    "Update function consists of the following equations:\n",
    "\n",
    "$\\mathbf y = \\mathbf z - \\mathbf{H\\bar x}$\n",
    "\n",
    "$\\mathbf K = \\mathbf{\\bar{P}H}^\\mathsf T (\\mathbf{H\\bar{P}H}^\\mathsf T + \\mathbf R)^{-1}$\n",
    "\n",
    "$ \\mathbf x = \\bar{\\mathbf x} + \\mathbf{Ky}$\n",
    "\n",
    "$\\mathbf P = (\\mathbf I - \\mathbf{KH})\\mathbf{\\bar{P}}$\n",
    "\n",
    "This function is used to choose middlepoint between our prediction and measurement."
   ]
  },
  {
   "cell_type": "code",
   "execution_count": 5,
   "metadata": {},
   "outputs": [],
   "source": [
    "def update(H, P, R, x, z):\n",
    "    y = z - np.dot(H, x)\n",
    "    A = inv(np.dot(H, P).dot(H.T) + R)\n",
    "    K = np.dot(P, H.T).dot(A)\n",
    "    nx = x + np.dot(K, y)\n",
    "    nP = P - np.dot(K, H).dot(P)\n",
    "    \n",
    "    return nx, nP"
   ]
  },
  {
   "cell_type": "markdown",
   "metadata": {},
   "source": [
    "## Kalman Filter\n",
    "\n",
    "Using functions defined above, let's write Kalman Filter."
   ]
  },
  {
   "cell_type": "code",
   "execution_count": 6,
   "metadata": {},
   "outputs": [],
   "source": [
    "def kalman(x, P, measures, R, Q, F, H, B=0, u=0):\n",
    "    xs, cov = [], []\n",
    "    for z in measures:\n",
    "        # predict\n",
    "        x = np.dot(F, x)\n",
    "        P = np.dot(F, P).dot(F.T) + Q\n",
    "\n",
    "        #update\n",
    "        S = np.dot(H, P).dot(H.T) + R\n",
    "        K = np.dot(P, H.T).dot(inv(S))\n",
    "        print(K.shape)\n",
    "        y = z - np.dot(H, x)\n",
    "        x += np.dot(K, y)\n",
    "\n",
    "        P = P - np.dot(K, H).dot(P)\n",
    "\n",
    "        xs.append(x)\n",
    "        cov.append(P)\n",
    "    return np.array(xs), np.array(cov)\n",
    "\n",
    "    "
   ]
  },
  {
   "cell_type": "markdown",
   "metadata": {},
   "source": [
    "## Parameters for our example"
   ]
  },
  {
   "cell_type": "code",
   "execution_count": 8,
   "metadata": {},
   "outputs": [
    {
     "name": "stdout",
     "output_type": "stream",
     "text": [
      "(2, 2)\n",
      "(2, 2)\n",
      "(2, 2)\n",
      "(2, 2)\n",
      "(2, 2)\n",
      "(2, 2)\n",
      "(2, 2)\n",
      "(2, 2)\n",
      "(2, 2)\n",
      "(2, 2)\n",
      "(2, 2)\n",
      "(2, 2)\n",
      "(2, 2)\n",
      "(2, 2)\n",
      "(2, 2)\n",
      "(2, 2)\n",
      "(2, 2)\n",
      "(2, 2)\n",
      "(2, 2)\n",
      "(2, 2)\n",
      "(2, 2)\n",
      "(2, 2)\n",
      "(2, 2)\n",
      "(2, 2)\n",
      "(2, 2)\n",
      "(2, 2)\n",
      "(2, 2)\n",
      "(2, 2)\n",
      "(2, 2)\n",
      "(2, 2)\n",
      "(2, 2)\n",
      "(2, 2)\n",
      "(2, 2)\n",
      "(2, 2)\n",
      "(2, 2)\n",
      "(2, 2)\n",
      "(2, 2)\n",
      "(2, 2)\n",
      "(2, 2)\n",
      "(2, 2)\n",
      "(2, 2)\n",
      "(2, 2)\n",
      "(2, 2)\n",
      "(2, 2)\n",
      "(2, 2)\n",
      "(2, 2)\n",
      "(2, 2)\n",
      "(2, 2)\n",
      "(2, 2)\n",
      "(2, 2)\n",
      "(2, 2)\n",
      "(2, 2)\n",
      "(2, 2)\n",
      "(2, 2)\n",
      "(2, 2)\n",
      "(2, 2)\n",
      "(2, 2)\n",
      "(2, 2)\n",
      "(2, 2)\n",
      "(2, 2)\n",
      "(2, 2)\n",
      "(2, 2)\n",
      "(2, 2)\n",
      "(2, 2)\n",
      "(2, 2)\n",
      "(2, 2)\n",
      "(2, 2)\n",
      "(2, 2)\n",
      "(2, 2)\n",
      "(2, 2)\n",
      "(2, 2)\n",
      "(2, 2)\n",
      "(2, 2)\n",
      "(2, 2)\n",
      "(2, 2)\n",
      "(2, 2)\n",
      "(2, 2)\n",
      "(2, 2)\n",
      "(2, 2)\n",
      "(2, 2)\n",
      "(2, 2)\n",
      "(2, 2)\n",
      "(2, 2)\n",
      "(2, 2)\n",
      "(2, 2)\n",
      "(2, 2)\n",
      "(2, 2)\n",
      "(2, 2)\n",
      "(2, 2)\n",
      "(2, 2)\n",
      "(2, 2)\n",
      "(2, 2)\n",
      "(2, 2)\n",
      "(2, 2)\n",
      "(2, 2)\n",
      "(2, 2)\n",
      "(2, 2)\n",
      "(2, 2)\n",
      "(2, 2)\n",
      "(2, 2)\n"
     ]
    },
    {
     "data": {
      "image/png": "[encoded data removed]",
      "text/plain": [
       "<matplotlib.figure.Figure at 0x10879ac88>"
      ]
     },
     "metadata": {},
     "output_type": "display_data"
    },
    {
     "data": {
      "image/png": "[encoded data removed]",
      "text/plain": [
       "<matplotlib.figure.Figure at 0x1087c4588>"
      ]
     },
     "metadata": {},
     "output_type": "display_data"
    },
    {
     "data": {
      "image/png": "[encoded data removed]",
      "text/plain": [
       "<matplotlib.figure.Figure at 0x10894e080>"
      ]
     },
     "metadata": {},
     "output_type": "display_data"
    },
    {
     "data": {
      "image/png": "[encoded data removed]",
      "text/plain": [
       "<matplotlib.figure.Figure at 0x1089e8f28>"
      ]
     },
     "metadata": {},
     "output_type": "display_data"
    },
    {
     "data": {
      "text/plain": [
       "array([[ 10.],\n",
       "       [  1.]])"
      ]
     },
     "execution_count": 8,
     "metadata": {},
     "output_type": "execute_result"
    }
   ],
   "source": [
    "sim_length = 100\n",
    "x = np.array([[10., 1]]).T\n",
    "P = np.diag([5., 1.])\n",
    "F = np.array([[1., 1],\n",
    "             [0., 1]])\n",
    "R = np.array([[5., 0], [0, 5.]])\n",
    "Q = np.array([[.01, 0.0],\n",
    "              [0., .01]])\n",
    "H = np.array([[1., 0], [0., 1.]])\n",
    "\n",
    "xs, m = generate_simulation([10., 1], process_var=.01, sensor_var=5., length=sim_length)\n",
    "\n",
    "fx, fP = kalman(x, P, m, R, Q, F, H)\n",
    "\n",
    "plt.plot(range(sim_length), xs[:, 0], label=\"calculation\")\n",
    "plt.plot(range(sim_length), m[:, 0] ,'g', label=\"measurement\")\n",
    "plt.ylabel(\"distance\")\n",
    "plt.xlabel(\"time\")\n",
    "plt.legend(loc='lower right', shadow=False)\n",
    "plt.grid(True)\n",
    "plt.show()\n",
    "\n",
    "plt.plot(range(sim_length), xs[:, 0], label=\"calculation\")\n",
    "plt.plot(range(sim_length), fx[:, 0], 'r--', label=\"filter\")\n",
    "plt.ylabel(\"distance\")\n",
    "plt.xlabel(\"time\")\n",
    "plt.legend(loc='lower right', shadow=False)\n",
    "plt.grid(True)\n",
    "plt.show()\n",
    "\n",
    "plt.plot(range(sim_length), fP[:, 0, 0])\n",
    "plt.show()\n",
    "\n",
    "# print(fx[:, 0])\n",
    "# print(xs - fx[:, 0])\n",
    "plt.plot(range(sim_length), xs[:, 0].flatten() - fx[:, 0].flatten())\n",
    "plt.show()\n",
    "x"
   ]
  },
  {
   "cell_type": "markdown",
   "metadata": {},
   "source": [
    "# Kalman Filter Improvement"
   ]
  },
  {
   "cell_type": "markdown",
   "metadata": {},
   "source": [
    "Major problem of the Kalman filter is that its performance depends a lot on proper estimation of process and noise covariance matrices Q & R. In practice these parameters are hard to estimate correctly, so filter has sub-optimal performance.\n",
    "\n",
    "In order to fix that, one of the proposals is to use neural network to correct kalman filter estimation.\n",
    "\n",
    "Network accepts $K$ and $y$ of the filter as the input and produces state correction $X_{mod}$, which is used to adjust state calculated by the filter.\n",
    "\n",
    "This idea is based on an article \"Kalman Filtering Compensated by Radial Basis Function Neural Network for Seam Tracking of Laser Welding\" (link below), which uses that technique to successfully improve Kalman Filter for Laser Welding process."
   ]
  },
  {
   "cell_type": "markdown",
   "metadata": {},
   "source": [
    "# Training Dataset"
   ]
  },
  {
   "cell_type": "code",
   "execution_count": 9,
   "metadata": {},
   "outputs": [],
   "source": [
    "def kalman_training(x, P, measures, R, Q, F, H, B=0, u=0):\n",
    "    xs, cov = [], []\n",
    "    ys, Ks = [], []\n",
    "    for z in measures:\n",
    "        # predict\n",
    "        x = np.dot(F, x)\n",
    "        P = np.dot(F, P).dot(F.T) + Q\n",
    "\n",
    "        #update\n",
    "        S = np.dot(H, P).dot(H.T) + R\n",
    "        K = np.dot(P, H.T).dot(inv(S))\n",
    "        Ks.append(K.dot(np.array([[1], [0]])))\n",
    "        y = z - np.dot(H, x)\n",
    "        \n",
    "        ys.append(y)\n",
    "        x += np.dot(K, y)\n",
    "        P = P - np.dot(K, H).dot(P)\n",
    "        \n",
    "        xs.append(x)\n",
    "        cov.append(P)\n",
    "    return np.array(xs), np.array(cov), np.array(ys), np.array(Ks)\n",
    "\n",
    "\n",
    "sim_length = 1000\n",
    "x = np.array([[10., 1]]).T\n",
    "P = np.diag([5., 1.])\n",
    "F = np.array([[1., 1],\n",
    "             [0., 1]])\n",
    "R = np.array([[5., 0], [0, 5.]])\n",
    "Q = np.array([[.01, 0.0],\n",
    "              [0., .01]])\n",
    "H = np.array([[1., 0], [0., 1.]])\n",
    "\n"
   ]
  },
  {
   "cell_type": "markdown",
   "metadata": {},
   "source": [
    "# Generating Test Data"
   ]
  },
  {
   "cell_type": "markdown",
   "metadata": {},
   "source": [
    "We run simulation l times for each sample until we reach a sample size specified below."
   ]
  },
  {
   "cell_type": "code",
   "execution_count": 11,
   "metadata": {},
   "outputs": [
    {
     "name": "stderr",
     "output_type": "stream",
     "text": [
      " 28%|██▊       | 142/500 [00:10<00:25, 14.20it/s]/Users/nick/anaconda3/lib/python3.6/site-packages/tqdm/_monitor.py:89: TqdmSynchronisationWarning: Set changed size during iteration (see https://github.com/tqdm/tqdm/issues/481)\n",
      "  TqdmSynchronisationWarning)\n",
      "100%|██████████| 500/500 [00:37<00:00, 13.21it/s]\n"
     ]
    }
   ],
   "source": [
    "import tqdm\n",
    "l = 1000  # Sample length\n",
    "N = 500 # Sample amount\n",
    "h1 = 50 # Number of neurons\n",
    "\n",
    "output_corr = []\n",
    "input_set = []\n",
    "\n",
    "for j in tqdm.tqdm(range(N)):\n",
    "    sim_length = 1000\n",
    "    x = np.array([[10., 1]]).T\n",
    "    P = np.diag([5., 1.])\n",
    "    F = np.array([[1., 1],\n",
    "                 [0., 1]])\n",
    "    R = np.array([[3., 0], [0, 3.]])\n",
    "    Q = np.array([[.01, 0.0],\n",
    "                  [0., .01]])\n",
    "    H = np.array([[1., 0], [0., 1.]])\n",
    "    xs, m = generate_simulation([10., 1], process_var=.01, sensor_var=3., length=sim_length)\n",
    "\n",
    "    fx, fP, Zs, Ks = kalman_training(x, P, m, R, Q, F, H)\n",
    "\n",
    "    correction = fx - xs\n",
    "    output_corr.append(correction.squeeze())\n",
    "    \n",
    "    inp = np.column_stack((Zs.squeeze(), Ks.squeeze()))\n",
    "    inp = np.array([inp for i in range(h1)])\n",
    "    input_set.append(inp)\n",
    "\n",
    "\n",
    "output_corr = np.array(output_corr)\n",
    "input_set = np.array(input_set)\n"
   ]
  },
  {
   "cell_type": "markdown",
   "metadata": {},
   "source": [
    "# Neural Network Parameters"
   ]
  },
  {
   "cell_type": "markdown",
   "metadata": {},
   "source": [
    "Below we use information from the article to create our neural network."
   ]
  },
  {
   "cell_type": "code",
   "execution_count": 12,
   "metadata": {},
   "outputs": [],
   "source": [
    "x = tf.placeholder(tf.float64, (N, h1, l, 4), name=\"x\")\n",
    "y = tf.placeholder(tf.float64, (N, l, 2), name=\"y\")\n",
    "W = tf.Variable(initial_value=np.random.randn(1, h1, l, 4))\n",
    "b = tf.Variable(initial_value=np.random.randn(1, l, 1))\n",
    "n = tf.exp(-tf.square(tf.norm(W - x, axis=1) * b))\n",
    "n = tf.reshape(n, (N, l, 2, 2))\n",
    "W2 = tf.Variable(initial_value=np.random.randn(1, l, 2))\n",
    "\n",
    "b2 = tf.Variable(initial_value=np.random.randn(1))\n",
    "out1 = tf.reduce_sum(W2*n[:,:,:,0], axis=2)\n",
    "out2 = tf.reduce_sum(W2*n[:,:,:,1], axis=2)\n",
    "\n",
    "out = tf.stack([out1, out2], axis = 2) + b2\n",
    "loss = tf.norm(y - out, ord=1)\n",
    "\n",
    "sgd = tf.train.RMSPropOptimizer(0.01)   # Learning rate\n",
    "step = sgd.minimize(loss)"
   ]
  },
  {
   "cell_type": "markdown",
   "metadata": {},
   "source": [
    "# Train the Network"
   ]
  },
  {
   "cell_type": "markdown",
   "metadata": {},
   "source": [
    "We train the network trying to minimize loss"
   ]
  },
  {
   "cell_type": "code",
   "execution_count": null,
   "metadata": {},
   "outputs": [
    {
     "name": "stdout",
     "output_type": "stream",
     "text": [
      "0: 591035.653106\n",
      "1: 549731.882457\n",
      "2: 522906.728771\n",
      "3: 503582.957777\n",
      "4: 488748.033239\n",
      "5: 476967.481459\n",
      "6: 467174.784179\n",
      "7: 458819.972324\n",
      "8: 451535.443752\n",
      "9: 445035.547035\n",
      "10: 439126.532735\n",
      "11: 433739.984486\n",
      "12: 428818.486771\n",
      "13: 424286.656795\n",
      "14: 420084.377217\n",
      "15: 416194.248795\n",
      "16: 412611.938753\n",
      "17: 409301.927858\n",
      "18: 406266.895894\n",
      "19: 403471.498664\n",
      "20: 400924.678517\n",
      "21: 398605.56388\n",
      "22: 396511.620445\n",
      "23: 394627.693255\n",
      "24: 392950.740841\n",
      "25: 391451.555363\n",
      "26: 390128.13236\n",
      "27: 388956.01068\n",
      "28: 387930.507074\n",
      "29: 387038.09779\n",
      "30: 386272.819012\n",
      "31: 385618.032477\n",
      "32: 385060.307688\n",
      "33: 384594.952936\n",
      "34: 384206.563997\n",
      "35: 383888.055959\n",
      "36: 383626.334888\n",
      "37: 383416.973692\n",
      "38: 383246.15842\n",
      "39: 383111.846082\n",
      "40: 383005.369447\n",
      "41: 382918.568282\n",
      "42: 382851.005882\n",
      "43: 382804.110335\n",
      "44: 382758.811399\n",
      "45: 382724.679157\n",
      "46: 382693.452271\n",
      "47: 382670.361672\n",
      "48: 382652.66863\n",
      "49: 382636.53439\n",
      "50: 382624.751275\n",
      "51: 382613.051332\n",
      "52: 382604.840244\n",
      "53: 382596.349349\n",
      "54: 382595.166754\n",
      "55: 382583.348514\n",
      "56: 382575.424466\n",
      "57: 382569.281113\n",
      "58: 382565.635516\n",
      "59: 382562.895458\n",
      "60: 382562.222466\n",
      "61: 382556.465232\n",
      "62: 382553.217866\n",
      "63: 382545.213314\n",
      "64: 382543.864991\n",
      "65: 382543.441842\n",
      "66: 382539.336273\n",
      "67: 382531.37871\n",
      "68: 382529.781138\n",
      "69: 382525.325108\n",
      "70: 382531.508406\n",
      "71: 382520.571109\n",
      "72: 382516.456812\n",
      "73: 382510.461991\n",
      "74: 382502.884607\n",
      "75: 382518.145669\n",
      "76: 382490.7672\n",
      "77: 382477.419248\n",
      "78: 382467.375863\n",
      "79: 382460.239525\n",
      "80: 382455.860687\n",
      "81: 382449.357781\n",
      "82: 382448.790913\n",
      "83: 382447.35864\n",
      "84: 382451.05326\n",
      "85: 382485.995776\n",
      "86: 382514.546691\n",
      "87: 382549.827621\n",
      "88: 382548.339554\n",
      "89: 382507.152689\n",
      "90: 382465.362833\n",
      "91: 382428.737159\n",
      "92: 382419.144128\n",
      "93: 382399.687197\n",
      "94: 382411.851506\n",
      "95: 382387.832376\n",
      "96: 382388.010365\n",
      "97: 382393.228162\n",
      "98: 382397.48685\n",
      "99: 382404.384453\n",
      "100: 382411.199157\n",
      "101: 382404.020454\n",
      "102: 382390.837367\n",
      "103: 382382.731821\n",
      "104: 382360.068794\n",
      "105: 382347.859035\n",
      "106: 382341.26983\n",
      "107: 382336.568017\n",
      "108: 382333.075572\n",
      "109: 382327.935202\n",
      "110: 382330.816332\n",
      "111: 382333.11875\n",
      "112: 382329.976503\n",
      "113: 382325.865091\n",
      "114: 382322.568585\n",
      "115: 382308.450471\n",
      "116: 382314.230855\n",
      "117: 382290.855233\n",
      "118: 382285.09952\n",
      "119: 382279.876721\n",
      "120: 382278.224157\n",
      "121: 382280.89171\n",
      "122: 382271.349085\n",
      "123: 382263.536145\n",
      "124: 382260.062678\n",
      "125: 382264.176503\n",
      "126: 382256.038034\n",
      "127: 382248.26538\n",
      "128: 382246.893751\n",
      "129: 382243.992964\n",
      "130: 382234.754598\n",
      "131: 382223.147479\n",
      "132: 382218.551219\n",
      "133: 382213.253738\n",
      "134: 382213.038272\n",
      "135: 382214.515745\n",
      "136: 382206.400395\n",
      "137: 382236.740597\n",
      "138: 382207.81773\n",
      "139: 382187.424038\n",
      "140: 382178.652118\n",
      "141: 382169.676907\n",
      "142: 382166.20523\n",
      "143: 382157.355972\n",
      "144: 382160.736543\n",
      "145: 382154.811498\n",
      "146: 382149.460455\n",
      "147: 382150.057361\n",
      "148: 382151.464492\n",
      "149: 382145.754233\n",
      "150: 382135.686529\n",
      "151: 382129.591159\n",
      "152: 382119.251569\n",
      "153: 382114.595736\n",
      "154: 382119.592577\n",
      "155: 382102.434775\n",
      "156: 382093.66704\n",
      "157: 382096.885888\n",
      "158: 382105.610146\n",
      "159: 382097.900069\n",
      "160: 382103.380748\n",
      "161: 382091.300417\n",
      "162: 382091.800671\n",
      "163: 382084.444299\n",
      "164: 382068.769279\n",
      "165: 382053.710913\n",
      "166: 382046.902333\n",
      "167: 382042.638862\n",
      "168: 382034.322343\n",
      "169: 382038.695617\n",
      "170: 382035.425092\n",
      "171: 382052.8115\n",
      "172: 382049.125267\n",
      "173: 382051.608191\n",
      "174: 382030.397615\n",
      "175: 382022.783557\n",
      "176: 382018.914196\n",
      "177: 382002.544222\n",
      "178: 382005.954998\n",
      "179: 381995.958645\n",
      "180: 381997.553895\n",
      "181: 381991.933887\n",
      "182: 381984.560113\n",
      "183: 381990.201118\n",
      "184: 381984.462746\n",
      "185: 381979.964019\n",
      "186: 381971.027858\n",
      "187: 381960.805161\n",
      "188: 381958.716584\n",
      "189: 381953.814897\n",
      "190: 381951.71403\n",
      "191: 381951.711882\n",
      "192: 381939.102549\n",
      "193: 381945.17858\n",
      "194: 381933.624457\n",
      "195: 381931.653722\n",
      "196: 381938.282396\n",
      "197: 381940.019818\n",
      "198: 381931.789425\n",
      "199: 381925.424545\n",
      "200: 381914.427227\n",
      "201: 381906.029093\n",
      "202: 381902.943346\n",
      "203: 381913.708518\n",
      "204: 381898.073208\n",
      "205: 381899.405445\n",
      "206: 381898.992211\n",
      "207: 381889.948706\n",
      "208: 381882.029224\n",
      "209: 381875.459418\n",
      "210: 381876.374791\n",
      "211: 381866.692125\n",
      "212: 381862.153518\n",
      "213: 381861.111647\n",
      "214: 381860.661104\n",
      "215: 381866.772094\n",
      "216: 381860.955877\n",
      "217: 381852.883215\n",
      "218: 381857.516842\n",
      "219: 381847.867101\n",
      "220: 381839.824308\n",
      "221: 381823.604425\n",
      "222: 381825.982531\n",
      "223: 381835.661002\n",
      "224: 381826.883725\n",
      "225: 381817.268849\n",
      "226: 381818.179834\n",
      "227: 381823.444444\n",
      "228: 381815.420371\n",
      "229: 381832.963937\n",
      "230: 381823.903723\n",
      "231: 381812.83508\n",
      "232: 381809.684461\n",
      "233: 381805.022844\n",
      "234: 381794.753439\n",
      "235: 381795.442983\n",
      "236: 381790.336691\n",
      "237: 381783.778985\n",
      "238: 381779.283941\n",
      "239: 381780.550854\n",
      "240: 381787.783051\n",
      "241: 381782.362658\n",
      "242: 381786.220705\n",
      "243: 381784.479778\n",
      "244: 381779.749335\n",
      "245: 381767.549582\n",
      "246: 381752.370548\n",
      "247: 381764.754639\n",
      "248: 381745.618196\n",
      "249: 381745.014372\n",
      "250: 381738.029888\n",
      "251: 381734.924746\n",
      "252: 381747.934119\n",
      "253: 381752.718813\n",
      "254: 381762.226027\n",
      "255: 381758.49846\n",
      "256: 381741.283697\n",
      "257: 381743.032349\n",
      "258: 381746.52556\n",
      "259: 381727.714062\n",
      "260: 381713.981466\n",
      "261: 381714.882546\n"
     ]
    }
   ],
   "source": [
    "epochs = 1000\n",
    "sess = tf.InteractiveSession()\n",
    "init = tf.global_variables_initializer()\n",
    "sess.run([init])\n",
    "\n",
    "for i in range(epochs):\n",
    "    loss_, _ = sess.run([loss, step], feed_dict={x: input_set, y: output_corr})\n",
    "    print(str(i) + \": \" + str(loss_))"
   ]
  },
  {
   "cell_type": "markdown",
   "metadata": {},
   "source": [
    "# Results"
   ]
  },
  {
   "cell_type": "markdown",
   "metadata": {},
   "source": [
    "If you run the training code above, you will notice that the loss is quite huge and not at all acceptable. This means that the network has failed to train on a given test data. \n",
    "\n",
    "I was not able to repeat experiment result of the article, which is due to several issues.\n",
    "First of all, neural network was poorly described in the article, which makes it hard to infer its configuration. I lack experience in this domain (machine learning), so to analyze what went wrong and where is hard as it requires a lot of expert knowledge.\n",
    "\n",
    "Secondly, paper describes concrete process and concrete solution to predict that process more accurately. I do not see why the algorithm proposed cannot be used in general sense, but again, lack of expert knowledge leaves ma unsure.\n",
    "\n",
    "Quality of the paper leaves more to be desired. Notation is inconsitent and there are a lot of grammatical mistakes which makes it hard to understand what the authors meant. Also authors leave a lot of details out of the paper, such as the size of the training dataset, initial parameters, etc.\n",
    "\n",
    "Given more time and knowledge, this research has a great potential to enhance classic filtering algorithms, however I was not able to repeat the success of the authors"
   ]
  },
  {
   "cell_type": "markdown",
   "metadata": {},
   "source": [
    "# References"
   ]
  },
  {
   "cell_type": "markdown",
   "metadata": {},
   "source": [
    "https://ieeexplore.ieee.org/document/6353188/ - paper the research is based on"
   ]
  },
  {
   "cell_type": "code",
   "execution_count": null,
   "metadata": {},
   "outputs": [],
   "source": []
  }
 ],
 "metadata": {
  "kernelspec": {
   "display_name": "Python 3",
   "language": "python",
   "name": "python3"
  },
  "language_info": {
   "codemirror_mode": {
    "name": "ipython",
    "version": 3
   },
   "file_extension": ".py",
   "mimetype": "text/x-python",
   "name": "python",
   "nbconvert_exporter": "python",
   "pygments_lexer": "ipython3",
   "version": "3.6.4"
  }
 },
 "nbformat": 4,
 "nbformat_minor": 2
}
