{
 "cells": [
  {
   "cell_type": "code",
   "execution_count": 91,
   "metadata": {},
   "outputs": [],
   "source": [
    "import matplotlib.pyplot as plt\n",
    "import numpy as np\n",
    "import math\n",
    "from numpy.random import randn\n",
    "from scipy.linalg import inv"
   ]
  },
  {
   "cell_type": "markdown",
   "metadata": {},
   "source": [
    "# Kalman Filter"
   ]
  },
  {
   "cell_type": "markdown",
   "metadata": {},
   "source": [
    "Kalman filter is a bayesian filter used to approximate system state using given measurements and process model. Below I will implement Kalman filter for multivariable system and demonstrate its results. Next step is to improve Kalman filter by implementing dynamic calculation of process noise during filters operation in order to improve its precision"
   ]
  },
  {
   "cell_type": "markdown",
   "metadata": {},
   "source": [
    "## Research Process Description"
   ]
  },
  {
   "cell_type": "markdown",
   "metadata": {},
   "source": [
    "In order to show results of the research, following plan was developed:\n",
    "1. Develop a model with several variables, such as train movement.\n",
    "2. Create imprecise measurements of the model, in order to use filter on\n",
    "3. Show performance of a classic Kalman Filter on the model and measurements\n",
    "4. Design Kalman filter with uses an agent to calculate process and sensor error as the filtering is in process\n",
    "5. Show differences in performance of the filters - accuracy, speed, memory usage"
   ]
  },
  {
   "cell_type": "markdown",
   "metadata": {},
   "source": [
    "## Model Under Study"
   ]
  },
  {
   "cell_type": "markdown",
   "metadata": {},
   "source": [
    "As an example we will use train for which we have a location sensor. We will estimate speed and location as variables for our model."
   ]
  },
  {
   "cell_type": "markdown",
   "metadata": {},
   "source": [
    "## Kalman Filter Overview"
   ]
  },
  {
   "cell_type": "markdown",
   "metadata": {},
   "source": [
    "![kalman](img/kalman-2.png)"
   ]
  },
  {
   "cell_type": "markdown",
   "metadata": {},
   "source": [
    "In principle kalman filter has two stages prediction and update. During prediction we compute _prior_ which is the estimation of the next state of the system. During update step we incorporate measurements and select value of the system somewhere between prediction and measurement based on _Kalman gain_.\n",
    "\n",
    "Below we will see how these stages are described and how we implement them."
   ]
  },
  {
   "cell_type": "markdown",
   "metadata": {},
   "source": [
    "## Kalman Filter Algorithm"
   ]
  },
  {
   "cell_type": "markdown",
   "metadata": {},
   "source": [
    "**Initialization**\n",
    "\n",
    "    1. Initialize the state of the filter\n",
    "    2. Initialize initial state of the system\n",
    "    \n",
    "**Predict**\n",
    "\n",
    "    1. Use process model to predict state at the next time step\n",
    "    2. Adjust belief to account for the uncertainty in prediction    \n",
    "**Update**\n",
    "\n",
    "    1. Get a measurement and associated belief about its accuracy\n",
    "    2. Compute residual between estimated state and measurement\n",
    "    3. Compute scaling factor based on whether the measurement\n",
    "    or prediction is more accurate\n",
    "    4. set state between the prediction and measurement based \n",
    "    on scaling factor\n",
    "    5. update belief in the state based on how certain we are \n",
    "    in the measurement"
   ]
  },
  {
   "cell_type": "markdown",
   "metadata": {},
   "source": [
    "## Variables in Kalman Filter\n",
    "\n",
    "Now let's describe all variables we need for a Kalman filter:\n",
    "\n",
    "$\\mathbf{x}$ - state vector, when we talk about state, we always assume mean value, since we are never sure.\n",
    "\n",
    "$\\mathbf{P}$ - covariance matrix of our state.\n",
    "\n",
    "$\\mathbf{F}$ - state transition function.\n",
    "\n",
    "$\\mathbf{Q}$ - process covariance, this is uncertainty you have about your model calculations.\n",
    "\n",
    "$\\mathbf{B}$ - input function, transformation of an input vector corresponding to a model.\n",
    "\n",
    "$\\mathbf{u}$ - input vector.\n",
    "\n",
    "$\\mathbf{H}$ - measurement function.\n",
    "\n",
    "$\\mathbf{z}$ - measurement mean, basically value we get from the sensor.\n",
    "\n",
    "$\\mathbf{R}$ - measurement covariance matrix, how our measurement can deviate from the real value\n",
    "\n",
    "$\\mathbf{K}$ - Kalman gain, or how much we trust either measurement or prediction\n",
    "\n",
    "$\\mathbf{y}$ - residual"
   ]
  },
  {
   "cell_type": "markdown",
   "metadata": {},
   "source": [
    "## Equations\n",
    "\n",
    "Kalman filter is described by the following equations:\n",
    "\n",
    "### Prediction\n",
    "\n",
    "$\\bar{\\mathbf x} = \\mathbf{Fx} + \\mathbf{Bu}$\n",
    "\n",
    "$\\bar{\\mathbf P} = \\mathbf{FPF}^\\mathsf T + \\mathbf Q$\n",
    "\n",
    "### Update\n",
    "\n",
    "$\\mathbf y = \\mathbf z - \\mathbf{H\\bar x}$\n",
    "\n",
    "$\\mathbf K = \\mathbf{\\bar{P}H}^\\mathsf T (\\mathbf{H\\bar{P}H}^\\mathsf T + \\mathbf R)^{-1}$\n",
    "\n",
    "$ \\mathbf x = \\bar{\\mathbf x} + \\mathbf{Ky}$\n",
    "\n",
    "$\\mathbf P = (\\mathbf I - \\mathbf{KH})\\mathbf{\\bar{P}}$"
   ]
  },
  {
   "cell_type": "markdown",
   "metadata": {},
   "source": [
    "## Simulation for testing\n",
    "\n",
    "For testing purposes we need to generate simulation. In our case it is movement of a train. We need to generate measurement with some deviation, as well as our prediction with some process deviation. We will have length of the simulation as a parameter and make samples every second. System will have initial position in form of a vector - first value is initial coordinate, second is initial speed. Each iteration we will change coordinate by speed + process noise. Also when we take measurements, sensor noise will be added. Function will return two vectors - vector of predicted coordinates and vector of measured coordinates."
   ]
  },
  {
   "cell_type": "code",
   "execution_count": 35,
   "metadata": {},
   "outputs": [],
   "source": [
    "\n",
    "def generate_simulation(initial_state, process_var, sensor_var, length=1):\n",
    "    x = initial_state[0]\n",
    "    v = initial_state[1]\n",
    "    \n",
    "    process_std = math.sqrt(process_var)\n",
    "    sensor_std = math.sqrt(sensor_var)\n",
    "    \n",
    "    coordinates, measurements = [], []\n",
    "    \n",
    "    for _ in range(length):\n",
    "        x += v + randn() * process_std # compute new coordinate\n",
    "        coordinates.append(x)\n",
    "        measurements.append(x + randn() * sensor_std) #compute sensor readings\n",
    "    \n",
    "    return np.array(coordinates), np.array(measurements)\n",
    "        "
   ]
  },
  {
   "cell_type": "markdown",
   "metadata": {},
   "source": [
    "## Visualizing Simulation\n",
    "\n",
    "Now let's see how results of our simulation look like."
   ]
  },
  {
   "cell_type": "code",
   "execution_count": 83,
   "metadata": {},
   "outputs": [
    {
     "data": {
      "image/png": "[encoded data removed]",
      "text/plain": [
       "<matplotlib.figure.Figure at 0x6199c5a20>"
      ]
     },
     "metadata": {},
     "output_type": "display_data"
    }
   ],
   "source": [
    "sim_length = 20\n",
    "x, m = generate_simulation([0, 1], process_var=0.2, sensor_var=0.5, length=sim_length)\n",
    "\n",
    "plt.plot(range(sim_length), x, label=\"calculation\")\n",
    "plt.plot(range(sim_length), m ,'ro', label=\"measurement\")\n",
    "plt.ylabel(\"distance\")\n",
    "plt.xlabel(\"time\")\n",
    "plt.legend(loc='lower right', shadow=False)\n",
    "plt.grid(True)\n",
    "plt.show()"
   ]
  },
  {
   "cell_type": "markdown",
   "metadata": {},
   "source": [
    "## Implementation of Kalman Filter\n",
    "\n",
    "To produce Kalman filter, we need to write two functions - predict and update You will see their code below."
   ]
  },
  {
   "cell_type": "markdown",
   "metadata": {},
   "source": [
    "## Predict function\n",
    "\n",
    "As we already have seen above, prediction function consists of the follwing equations:\n",
    "\n",
    "$\\bar{\\mathbf x} = \\mathbf{Fx} + \\mathbf{Bu}$\n",
    "\n",
    "$\\bar{\\mathbf P} = \\mathbf{FPF}^\\mathsf T + \\mathbf Q$\n",
    "\n",
    "Prediction is used to compute prior - what we _predict_ will be the next state of the system. State of the system consists of mean of its variables and their covariance matrix."
   ]
  },
  {
   "cell_type": "code",
   "execution_count": 82,
   "metadata": {},
   "outputs": [],
   "source": [
    "def predict(x, P, F, Q, B=0, u=0):\n",
    "    nx = np.dot(F, x) + np.dot(B, u)\n",
    "    nP = np.dot(F, P).dot(F.T) + Q\n",
    "    return nx, nP"
   ]
  },
  {
   "cell_type": "markdown",
   "metadata": {},
   "source": [
    "## Update Function\n",
    "\n",
    "Update function consists of the following equations:\n",
    "\n",
    "$\\mathbf y = \\mathbf z - \\mathbf{H\\bar x}$\n",
    "\n",
    "$\\mathbf K = \\mathbf{\\bar{P}H}^\\mathsf T (\\mathbf{H\\bar{P}H}^\\mathsf T + \\mathbf R)^{-1}$\n",
    "\n",
    "$ \\mathbf x = \\bar{\\mathbf x} + \\mathbf{Ky}$\n",
    "\n",
    "$\\mathbf P = (\\mathbf I - \\mathbf{KH})\\mathbf{\\bar{P}}$\n",
    "\n",
    "This function is used to choose middlepoint between our prediction and measurement."
   ]
  },
  {
   "cell_type": "code",
   "execution_count": 93,
   "metadata": {},
   "outputs": [],
   "source": [
    "def update(H, P, R, x, z):\n",
    "    y = z - np.dot(H, x)\n",
    "    A = inv(np.dot(H, P).dot(H.T) + R)\n",
    "    K = np.dot(P, H.T).dot(A)\n",
    "    nx = x + np.dot(K, y)\n",
    "    nP = P - np.dot(K, H).dot(P)\n",
    "    \n",
    "    return nx, nP"
   ]
  },
  {
   "cell_type": "markdown",
   "metadata": {},
   "source": [
    "## Kalman Filter\n",
    "\n",
    "Using functions defined above, let's write Kalman Filter."
   ]
  },
  {
   "cell_type": "code",
   "execution_count": 95,
   "metadata": {},
   "outputs": [],
   "source": [
    "def kalman(x, P, measures, R, Q, F, H, B=0, u=0):\n",
    "    xs, Ps = [], []\n",
    "    for m in measures:\n",
    "        x, P = predict(x, P, F, Q, B, u)\n",
    "        x, P = update(H, P, R, x, m)\n",
    "        xs.append(x)\n",
    "        Ps.append(P)\n",
    "    return np.array(xs), np.array(Ps)\n",
    "\n",
    "    "
   ]
  },
  {
   "cell_type": "markdown",
   "metadata": {},
   "source": [
    "## Parameters for our example"
   ]
  },
  {
   "cell_type": "code",
   "execution_count": 146,
   "metadata": {},
   "outputs": [
    {
     "data": {
      "image/png": "[encoded data removed]",
      "text/plain": [
       "<matplotlib.figure.Figure at 0x1117061d0>"
      ]
     },
     "metadata": {},
     "output_type": "display_data"
    },
    {
     "data": {
      "image/png": "[encoded data removed]",
      "text/plain": [
       "<matplotlib.figure.Figure at 0x619cb14e0>"
      ]
     },
     "metadata": {},
     "output_type": "display_data"
    }
   ],
   "source": [
    "sim_length = 20\n",
    "x = np.array([[0., 1]]).T\n",
    "P = np.diag([10., 2.])\n",
    "F = np.array([[1., 1],\n",
    "             [0., 1]])\n",
    "R = np.array([[1.0]])\n",
    "Q = np.array([[0.1, 0.0],\n",
    "              [0., 0.1]])\n",
    "H = np.array([[1., 0]])\n",
    "\n",
    "xs, m = generate_simulation([0, 1], process_var=0.1, sensor_var=1.0, length=sim_length)\n",
    "\n",
    "fx, fP = kalman(x, P, m, R, Q, F, H)\n",
    "\n",
    "plt.plot(range(sim_length), xs, label=\"calculation\")\n",
    "plt.plot(range(sim_length), m ,'go', label=\"measurement\")\n",
    "plt.plot(range(sim_length), fx[:, 0], 'r--', label=\"filter\")\n",
    "plt.ylabel(\"distance\")\n",
    "plt.xlabel(\"time\")\n",
    "plt.legend(loc='lower right', shadow=False)\n",
    "plt.grid(True)\n",
    "plt.show()\n",
    "\n",
    "plt.plot(range(sim_length), fP[:, 0, 0])\n",
    "plt.show()"
   ]
  },
  {
   "cell_type": "code",
   "execution_count": null,
   "metadata": {},
   "outputs": [],
   "source": []
  }
 ],
 "metadata": {
  "kernelspec": {
   "display_name": "Python 3",
   "language": "python",
   "name": "python3"
  },
  "language_info": {
   "codemirror_mode": {
    "name": "ipython",
    "version": 3
   },
   "file_extension": ".py",
   "mimetype": "text/x-python",
   "name": "python",
   "nbconvert_exporter": "python",
   "pygments_lexer": "ipython3",
   "version": "3.6.4"
  }
 },
 "nbformat": 4,
 "nbformat_minor": 2
}
